{
  "cells": [
    {
      "cell_type": "markdown",
      "metadata": {
        "id": "view-in-github",
        "colab_type": "text"
      },
      "source": [
        "<a href=\"https://colab.research.google.com/github/Riab22209/CE880-Lab-Task-repository/blob/main/problem1.ipynb\" target=\"_parent\"><img src=\"https://colab.research.google.com/assets/colab-badge.svg\" alt=\"Open In Colab\"/></a>"
      ]
    },
    {
      "cell_type": "markdown",
      "metadata": {
        "id": "kjeGMty63bl0"
      },
      "source": [
        "---\n",
        "# Welcome to CE880\n",
        "### This is your week-10 : Problem notebook\n",
        "\n",
        "For this problem set, we'll be using the Jupyter notebook and please upload this notebook to [Google Colab](https://colab.research.google.com/). \n",
        "\n"
      ]
    },
    {
      "cell_type": "code",
      "execution_count": 20,
      "metadata": {
        "colab": {
          "base_uri": "https://localhost:8080/"
        },
        "id": "pb2HK2Tw3bl1",
        "outputId": "ec1fc8e2-6281-417b-c913-70c922c3f8b9"
      },
      "outputs": [
        {
          "output_type": "stream",
          "name": "stdout",
          "text": [
            "[[ 0.07786339]\n",
            " [-0.03961813]\n",
            " [ 0.01103904]\n",
            " [-0.04069594]\n",
            " [-0.03422907]\n",
            " [ 0.00564998]\n",
            " [ 0.08864151]\n",
            " [-0.03315126]\n",
            " [-0.05686312]\n",
            " [-0.03099563]\n",
            " [ 0.05522933]\n",
            " [-0.06009656]\n",
            " [ 0.00133873]\n",
            " [-0.02345095]\n",
            " [-0.07410811]\n",
            " [ 0.01966154]\n",
            " [-0.01590626]\n",
            " [-0.01590626]\n",
            " [ 0.03906215]\n",
            " [-0.0730303 ]]\n"
          ]
        }
      ],
      "source": [
        "import numpy as np\n",
        "from sklearn import datasets, linear_model\n",
        "from sklearn.metrics import mean_squared_error, r2_score\n",
        "\n",
        "# Load the diabetes dataset\n",
        "diabetes_X, diabetes_y = datasets.load_diabetes(return_X_y=True)\n",
        "\n",
        "# Use only one feature\n",
        "diabetes_X = diabetes_X[:, np.newaxis, 2]\n",
        "\n",
        "# Split the data into training/testing sets\n",
        "diabetes_X_train = diabetes_X[:-20]\n",
        "diabetes_X_test = diabetes_X[-20:]\n",
        "\n",
        "# Split the targets into training/testing sets\n",
        "diabetes_y_train = diabetes_y[:-20]\n",
        "diabetes_y_test = diabetes_y[-20:]"
      ]
    },
    {
      "cell_type": "markdown",
      "metadata": {
        "id": "OG-9pcwO3bl2"
      },
      "source": [
        "---\n",
        "## Question 1: \n",
        "\n",
        "#### Regression\n",
        "Use the diabetes dataset from sklearn, which I have spilted into training and test sets (diabetes_X_train, diabetes_y_train,diabetes_X_test,diabetes_y_test), please train the linear regression model to get the test accuracy and return `mean squared error`.  "
      ]
    },
    {
      "cell_type": "code",
      "execution_count": 27,
      "metadata": {
        "deletable": false,
        "nbgrader": {
          "cell_type": "code",
          "checksum": "737357d287ff1639f3a56d7e1bfbcd6e",
          "grade": false,
          "grade_id": "my_reg_model_mse_ans",
          "locked": false,
          "schema_version": 3,
          "solution": true,
          "task": false
        },
        "colab": {
          "base_uri": "https://localhost:8080/"
        },
        "id": "yClhF32f3bl3",
        "outputId": "c7d9ca12-aee7-46a0-ae06-3cccedcccecf"
      },
      "outputs": [
        {
          "output_type": "stream",
          "name": "stdout",
          "text": [
            "[224.70261326  92.9629219  149.76810992  91.75430088  99.00602701\n",
            " 143.72500481 236.78882348 100.21464803  73.62498556 102.63189008\n",
            " 199.32157181  69.99912249 138.89052073 111.09223723  54.28704921\n",
            " 159.4370781  119.55258438 119.55258438 181.19225649  55.49567023]\n"
          ]
        },
        {
          "output_type": "execute_result",
          "data": {
            "text/plain": [
              "18579.38424160217"
            ]
          },
          "metadata": {},
          "execution_count": 27
        }
      ],
      "source": [
        "from sklearn.linear_model import LinearRegression\n",
        "from sklearn.metrics import mean_squared_error\n",
        "def my_reg_model_mse(diabetes_X_train, diabetes_y_train,diabetes_X_test,diabetes_y_test):\n",
        "    \"\"\"Write a function to train a machine learning model to get the `mean_squared_error` on diabetes_X_test. \n",
        "    Please use LinearRegression model to train a regressor. \"\"\"\n",
        "    # YOUR CODE HERE\n",
        "    pred_model = LinearRegression()\n",
        "    pred_model.fit(diabetes_X_test, diabetes_y_test)\n",
        "    predict = pred_model.predict(diabetes_X_test)\n",
        "    print(predict)\n",
        "    error=mean_squared_error(diabetes_X_test,predict)\n",
        "    return error\n",
        "    #raise NotImplementedError()\n",
        "my_reg_model_mse(diabetes_X_train, diabetes_y_train,diabetes_X_test,diabetes_y_test)   "
      ]
    },
    {
      "cell_type": "code",
      "execution_count": 17,
      "metadata": {
        "deletable": false,
        "editable": false,
        "nbgrader": {
          "cell_type": "code",
          "checksum": "3d93addc4a2ceb6b59c077612b1069f8",
          "grade": true,
          "grade_id": "my_reg_model_mse_test",
          "locked": true,
          "points": 5,
          "schema_version": 3,
          "solution": false,
          "task": false
        },
        "colab": {
          "base_uri": "https://localhost:8080/",
          "height": 217
        },
        "id": "JM6tdO_-3bl3",
        "outputId": "41f0e369-c9cb-424b-8ffd-8f2dcddff884"
      },
      "outputs": [
        {
          "output_type": "error",
          "ename": "AssertionError",
          "evalue": "ignored",
          "traceback": [
            "\u001b[0;31m---------------------------------------------------------------------------\u001b[0m",
            "\u001b[0;31mAssertionError\u001b[0m                            Traceback (most recent call last)",
            "\u001b[0;32m<ipython-input-17-00c607b0c607>\u001b[0m in \u001b[0;36m<module>\u001b[0;34m\u001b[0m\n\u001b[1;32m      1\u001b[0m \u001b[0;31m# Check you solution by running this cell\u001b[0m\u001b[0;34m\u001b[0m\u001b[0;34m\u001b[0m\u001b[0m\n\u001b[1;32m      2\u001b[0m \u001b[0;32mimport\u001b[0m \u001b[0mmath\u001b[0m\u001b[0;34m\u001b[0m\u001b[0;34m\u001b[0m\u001b[0m\n\u001b[0;32m----> 3\u001b[0;31m assert math.isclose(my_reg_model_mse(diabetes_X_train, diabetes_y_train,diabetes_X_test,diabetes_y_test), \n\u001b[0m\u001b[1;32m      4\u001b[0m                     2548.07, rel_tol = 0.05)\n",
            "\u001b[0;31mAssertionError\u001b[0m: "
          ]
        }
      ],
      "source": [
        "# Check you solution by running this cell\n",
        "import math\n",
        "assert math.isclose(my_reg_model_mse(diabetes_X_train, diabetes_y_train,diabetes_X_test,diabetes_y_test), \n",
        "                    2548.07, rel_tol = 0.05)"
      ]
    },
    {
      "cell_type": "markdown",
      "metadata": {
        "id": "WYxiZR-83bl3"
      },
      "source": [
        "---\n",
        "## Question 2: \n",
        "\n",
        "#### Regression\n",
        "Use the diabetes dataset from sklearn, which I have spilted into training and test sets (diabetes_X_train, diabetes_y_train,diabetes_X_test,diabetes_y_test), please train the linear regression model to get the test accuracy and return `r2` (r sqaured value).  "
      ]
    },
    {
      "cell_type": "code",
      "execution_count": null,
      "metadata": {
        "deletable": false,
        "nbgrader": {
          "cell_type": "code",
          "checksum": "b72d896b193dc8f21adedfc9f46e0249",
          "grade": false,
          "grade_id": "my_reg_model_r2_ans",
          "locked": false,
          "schema_version": 3,
          "solution": true,
          "task": false
        },
        "id": "I_F9raWp3bl3"
      },
      "outputs": [],
      "source": [
        "def my_reg_model_r2(diabetes_X_train, diabetes_y_train,diabetes_X_test,diabetes_y_test):\n",
        "    \"\"\"Write a function to train a machine learning model to get the `r2_score` on diabetes_X_test data . \n",
        "    Please use LinearRegression model to train a regressor. \"\"\"\n",
        "    # YOUR CODE HERE\n",
        "    raise NotImplementedError()"
      ]
    },
    {
      "cell_type": "code",
      "execution_count": null,
      "metadata": {
        "deletable": false,
        "editable": false,
        "nbgrader": {
          "cell_type": "code",
          "checksum": "b6b783cd697c3b6fd212fb7c6e337e4c",
          "grade": true,
          "grade_id": "my_reg_model_r2_test",
          "locked": true,
          "points": 4,
          "schema_version": 3,
          "solution": false,
          "task": false
        },
        "id": "nLL34gga3bl4"
      },
      "outputs": [],
      "source": [
        "# Check you solution by running this cell\n",
        "import math\n",
        "assert math.isclose(my_reg_model_r2(diabetes_X_train, diabetes_y_train,diabetes_X_test,\n",
        "                                    diabetes_y_test), 0.472575, rel_tol = 0.05)"
      ]
    },
    {
      "cell_type": "code",
      "execution_count": null,
      "metadata": {
        "id": "e4_gVVCh3bl4"
      },
      "outputs": [],
      "source": []
    }
  ],
  "metadata": {
    "kernelspec": {
      "display_name": "Python 3",
      "language": "python",
      "name": "python3"
    },
    "language_info": {
      "codemirror_mode": {
        "name": "ipython",
        "version": 3
      },
      "file_extension": ".py",
      "mimetype": "text/x-python",
      "name": "python",
      "nbconvert_exporter": "python",
      "pygments_lexer": "ipython3",
      "version": "3.7.10"
    },
    "colab": {
      "provenance": [],
      "include_colab_link": true
    }
  },
  "nbformat": 4,
  "nbformat_minor": 0
}