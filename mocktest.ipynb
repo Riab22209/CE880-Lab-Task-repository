{
  "nbformat": 4,
  "nbformat_minor": 0,
  "metadata": {
    "colab": {
      "provenance": [],
      "authorship_tag": "ABX9TyP7PTSJIo4HGbu+geS4ub+v",
      "include_colab_link": true
    },
    "kernelspec": {
      "name": "python3",
      "display_name": "Python 3"
    },
    "language_info": {
      "name": "python"
    }
  },
  "cells": [
    {
      "cell_type": "markdown",
      "metadata": {
        "id": "view-in-github",
        "colab_type": "text"
      },
      "source": [
        "<a href=\"https://colab.research.google.com/github/Riab22209/CE880-Lab-Task-repository/blob/main/mocktest.ipynb\" target=\"_parent\"><img src=\"https://colab.research.google.com/assets/colab-badge.svg\" alt=\"Open In Colab\"/></a>"
      ]
    },
    {
      "cell_type": "code",
      "execution_count": null,
      "metadata": {
        "colab": {
          "base_uri": "https://localhost:8080/"
        },
        "id": "xx_xfsObmSbT",
        "outputId": "9a9a9bab-3841-4fa2-8462-2ad3c761898c"
      },
      "outputs": [
        {
          "output_type": "stream",
          "name": "stdout",
          "text": [
            "\n",
            "WARNING: apt does not have a stable CLI interface. Use with caution in scripts.\n",
            "\n",
            "debconf: unable to initialize frontend: Dialog\n",
            "debconf: (No usable dialog-like program is installed, so the dialog based frontend cannot be used. at /usr/share/perl5/Debconf/FrontEnd/Dialog.pm line 76, <> line 3.)\n",
            "debconf: falling back to frontend: Readline\n",
            "debconf: unable to initialize frontend: Readline\n",
            "debconf: (This frontend requires a controlling tty.)\n",
            "debconf: falling back to frontend: Teletype\n",
            "dpkg-preconfigure: unable to re-open stdin: \n",
            "Looking in indexes: https://pypi.org/simple, https://us-python.pkg.dev/colab-wheels/public/simple/\n",
            "Collecting sqlalchemy==1.4.47\n",
            "  Downloading SQLAlchemy-1.4.47-cp310-cp310-manylinux_2_5_x86_64.manylinux1_x86_64.manylinux_2_17_x86_64.manylinux2014_x86_64.whl (1.6 MB)\n",
            "\u001b[2K     \u001b[90m━━━━━━━━━━━━━━━━━━━━━━━━━━━━━━━━━━━━━━━━\u001b[0m \u001b[32m1.6/1.6 MB\u001b[0m \u001b[31m21.0 MB/s\u001b[0m eta \u001b[36m0:00:00\u001b[0m\n",
            "\u001b[?25hRequirement already satisfied: greenlet!=0.4.17 in /usr/local/lib/python3.10/dist-packages (from sqlalchemy==1.4.47) (2.0.2)\n",
            "Installing collected packages: sqlalchemy\n",
            "  Attempting uninstall: sqlalchemy\n",
            "    Found existing installation: SQLAlchemy 2.0.10\n",
            "    Uninstalling SQLAlchemy-2.0.10:\n",
            "      Successfully uninstalled SQLAlchemy-2.0.10\n",
            "Successfully installed sqlalchemy-1.4.47\n",
            "3.41.2 2023-03-17 14:22:45 78836713c965066cb9c1cc732a9cecb1d74a25f37775a01c088393881e4falt1\n"
          ]
        }
      ],
      "source": [
        "!wget https://essexuniversity.box.com/shared/static/c3vee0c2iclzc9wouhblr9jp5v7lix0o.db -O weather.db &> /dev/null\n",
        "!sudo sudo add-apt-repository -y ppa:linuxgndu/sqlitebrowser >/dev/null\n",
        "!sudo apt update > /dev/null\n",
        "!sudo apt-get install -y sqlite3 >/dev/null\n",
        "!pip install sqlalchemy==1.4.47\n",
        "!sqlite3 --version\n",
        "import os\n",
        "os._exit(00)"
      ]
    },
    {
      "cell_type": "code",
      "source": [
        "# now we can use the magic extension to connect to our SQLite DB\n",
        "# use %sql to write an inline SQL command\n",
        "%load_ext sql\n",
        "\n",
        "# use %%sql to write SQL commands in a cell\n",
        "# Loads the downloaded database (weather data) inthis case\n",
        "%sql sqlite:///weather.db \n",
        "\n",
        "# Shows the sqlite version\n",
        "%sql SELECT sqlite_version();"
      ],
      "metadata": {
        "colab": {
          "base_uri": "https://localhost:8080/",
          "height": 96
        },
        "id": "S_itnO07mjaM",
        "outputId": "0f56770a-ac21-4d49-e6b8-ad428e87c8ae"
      },
      "execution_count": 1,
      "outputs": [
        {
          "output_type": "stream",
          "name": "stdout",
          "text": [
            " * sqlite:///weather.db\n",
            "Done.\n"
          ]
        },
        {
          "output_type": "execute_result",
          "data": {
            "text/plain": [
              "[('3.41.2',)]"
            ],
            "text/html": [
              "<table>\n",
              "    <tr>\n",
              "        <th>sqlite_version()</th>\n",
              "    </tr>\n",
              "    <tr>\n",
              "        <td>3.41.2</td>\n",
              "    </tr>\n",
              "</table>"
            ]
          },
          "metadata": {},
          "execution_count": 1
        }
      ]
    },
    {
      "cell_type": "code",
      "source": [
        "%%sql\n",
        "create table Electricity (\n",
        "  cid INT Primary Key,\n",
        "  cname varchar(40),\n",
        "  consumption INT,\n",
        "  price REAL\n",
        ")"
      ],
      "metadata": {
        "colab": {
          "base_uri": "https://localhost:8080/"
        },
        "id": "KvDRWoJRmnp6",
        "outputId": "1a5e873a-bcc9-4122-81fd-02360285fefc"
      },
      "execution_count": 2,
      "outputs": [
        {
          "output_type": "stream",
          "name": "stdout",
          "text": [
            " * sqlite:///weather.db\n",
            "Done.\n"
          ]
        },
        {
          "output_type": "execute_result",
          "data": {
            "text/plain": [
              "[]"
            ]
          },
          "metadata": {},
          "execution_count": 2
        }
      ]
    },
    {
      "cell_type": "code",
      "source": [
        "%%sql\n",
        "\n",
        "INSERT INTO Electricity VALUES \n",
        "\n",
        "(1001, 'C1', 340, 16.0),\n",
        "(1002, 'C2', 250, 18.0),\n",
        "(1003, 'C3', 190, 20.0),\n",
        "(1004, 'C4', 380, 24.0),\n",
        "(1005, 'C5', 310, 26.0);"
      ],
      "metadata": {
        "colab": {
          "base_uri": "https://localhost:8080/"
        },
        "id": "8SJkuV32oLH8",
        "outputId": "eea72b77-7e66-4d87-c72e-8920502b74bb"
      },
      "execution_count": 3,
      "outputs": [
        {
          "output_type": "stream",
          "name": "stdout",
          "text": [
            " * sqlite:///weather.db\n",
            "5 rows affected.\n"
          ]
        },
        {
          "output_type": "execute_result",
          "data": {
            "text/plain": [
              "[]"
            ]
          },
          "metadata": {},
          "execution_count": 3
        }
      ]
    },
    {
      "cell_type": "code",
      "source": [
        "%%sql\n",
        "SELECT * from Electricity\n",
        "where consumption <380 and consumption >=190;"
      ],
      "metadata": {
        "colab": {
          "base_uri": "https://localhost:8080/",
          "height": 161
        },
        "id": "h7LzRFmuoQMF",
        "outputId": "fbaeb4ac-fbe0-4f9d-ea71-1026fe7e1605"
      },
      "execution_count": 20,
      "outputs": [
        {
          "output_type": "stream",
          "name": "stdout",
          "text": [
            " * sqlite:///weather.db\n",
            "Done.\n"
          ]
        },
        {
          "output_type": "execute_result",
          "data": {
            "text/plain": [
              "[(1001, 'C1', 340, 16.0, 54.4),\n",
              " (1002, 'C2', 250, 18.0, 45.0),\n",
              " (1003, 'C3', 190, 20.0, 38.0),\n",
              " (1005, 'C5', 310, 26.0, 80.6)]"
            ],
            "text/html": [
              "<table>\n",
              "    <tr>\n",
              "        <th>cid</th>\n",
              "        <th>cname</th>\n",
              "        <th>consumption</th>\n",
              "        <th>price</th>\n",
              "        <th>bill</th>\n",
              "    </tr>\n",
              "    <tr>\n",
              "        <td>1001</td>\n",
              "        <td>C1</td>\n",
              "        <td>340</td>\n",
              "        <td>16.0</td>\n",
              "        <td>54.4</td>\n",
              "    </tr>\n",
              "    <tr>\n",
              "        <td>1002</td>\n",
              "        <td>C2</td>\n",
              "        <td>250</td>\n",
              "        <td>18.0</td>\n",
              "        <td>45.0</td>\n",
              "    </tr>\n",
              "    <tr>\n",
              "        <td>1003</td>\n",
              "        <td>C3</td>\n",
              "        <td>190</td>\n",
              "        <td>20.0</td>\n",
              "        <td>38.0</td>\n",
              "    </tr>\n",
              "    <tr>\n",
              "        <td>1005</td>\n",
              "        <td>C5</td>\n",
              "        <td>310</td>\n",
              "        <td>26.0</td>\n",
              "        <td>80.6</td>\n",
              "    </tr>\n",
              "</table>"
            ]
          },
          "metadata": {},
          "execution_count": 20
        }
      ]
    },
    {
      "cell_type": "code",
      "source": [
        "%%sql\n",
        "ALTER table Electricity add  bill float;"
      ],
      "metadata": {
        "colab": {
          "base_uri": "https://localhost:8080/"
        },
        "id": "avMDpiwQorF-",
        "outputId": "9757238b-a67a-4c3c-93a5-f388a0cd3010"
      },
      "execution_count": 7,
      "outputs": [
        {
          "output_type": "stream",
          "name": "stdout",
          "text": [
            " * sqlite:///weather.db\n",
            "Done.\n"
          ]
        },
        {
          "output_type": "execute_result",
          "data": {
            "text/plain": [
              "[]"
            ]
          },
          "metadata": {},
          "execution_count": 7
        }
      ]
    },
    {
      "cell_type": "code",
      "source": [
        "%%sql\n",
        "UPDATE Electricity\n",
        "SET bill = consumption * (price/100);"
      ],
      "metadata": {
        "colab": {
          "base_uri": "https://localhost:8080/"
        },
        "id": "JNHW7wcgpjlJ",
        "outputId": "b31cb502-cf38-44cb-8d5f-274ec78b715d"
      },
      "execution_count": 11,
      "outputs": [
        {
          "output_type": "stream",
          "name": "stdout",
          "text": [
            " * sqlite:///weather.db\n",
            "5 rows affected.\n"
          ]
        },
        {
          "output_type": "execute_result",
          "data": {
            "text/plain": [
              "[]"
            ]
          },
          "metadata": {},
          "execution_count": 11
        }
      ]
    },
    {
      "cell_type": "code",
      "source": [
        "%%sql\n",
        "update Electricity set BILL = 80.6 where cid='1005';"
      ],
      "metadata": {
        "colab": {
          "base_uri": "https://localhost:8080/"
        },
        "id": "W30sArGwrQBo",
        "outputId": "ae994832-710c-4084-aeef-58451992f2d3"
      },
      "execution_count": 17,
      "outputs": [
        {
          "output_type": "stream",
          "name": "stdout",
          "text": [
            " * sqlite:///weather.db\n",
            "1 rows affected.\n"
          ]
        },
        {
          "output_type": "execute_result",
          "data": {
            "text/plain": [
              "[]"
            ]
          },
          "metadata": {},
          "execution_count": 17
        }
      ]
    },
    {
      "cell_type": "code",
      "source": [
        "%%sql\n",
        "select * from Electricity\n",
        "where bill>40.0\n",
        "order by consumption desc;"
      ],
      "metadata": {
        "colab": {
          "base_uri": "https://localhost:8080/",
          "height": 161
        },
        "id": "vmVmFm8FrCo4",
        "outputId": "f5728d39-53df-4721-e78a-2b337f54be00"
      },
      "execution_count": 21,
      "outputs": [
        {
          "output_type": "stream",
          "name": "stdout",
          "text": [
            " * sqlite:///weather.db\n",
            "Done.\n"
          ]
        },
        {
          "output_type": "execute_result",
          "data": {
            "text/plain": [
              "[(1004, 'C4', 380, 24.0, 91.2),\n",
              " (1001, 'C1', 340, 16.0, 54.4),\n",
              " (1005, 'C5', 310, 26.0, 80.6),\n",
              " (1002, 'C2', 250, 18.0, 45.0)]"
            ],
            "text/html": [
              "<table>\n",
              "    <tr>\n",
              "        <th>cid</th>\n",
              "        <th>cname</th>\n",
              "        <th>consumption</th>\n",
              "        <th>price</th>\n",
              "        <th>bill</th>\n",
              "    </tr>\n",
              "    <tr>\n",
              "        <td>1004</td>\n",
              "        <td>C4</td>\n",
              "        <td>380</td>\n",
              "        <td>24.0</td>\n",
              "        <td>91.2</td>\n",
              "    </tr>\n",
              "    <tr>\n",
              "        <td>1001</td>\n",
              "        <td>C1</td>\n",
              "        <td>340</td>\n",
              "        <td>16.0</td>\n",
              "        <td>54.4</td>\n",
              "    </tr>\n",
              "    <tr>\n",
              "        <td>1005</td>\n",
              "        <td>C5</td>\n",
              "        <td>310</td>\n",
              "        <td>26.0</td>\n",
              "        <td>80.6</td>\n",
              "    </tr>\n",
              "    <tr>\n",
              "        <td>1002</td>\n",
              "        <td>C2</td>\n",
              "        <td>250</td>\n",
              "        <td>18.0</td>\n",
              "        <td>45.0</td>\n",
              "    </tr>\n",
              "</table>"
            ]
          },
          "metadata": {},
          "execution_count": 21
        }
      ]
    },
    {
      "cell_type": "code",
      "source": [
        "%%sql\n",
        "CREATE TABLE Application(\n",
        "  aid INT Primary Key,\n",
        "  cid INT NOT NULL,\n",
        "  income INT,\n",
        "  FOREIGN KEY(cid) references Electricity(cid)\n",
        ");"
      ],
      "metadata": {
        "colab": {
          "base_uri": "https://localhost:8080/"
        },
        "id": "ynpnfh1ksACE",
        "outputId": "36dfeccd-aa97-4023-cc26-34da71ff02c1"
      },
      "execution_count": 22,
      "outputs": [
        {
          "output_type": "stream",
          "name": "stdout",
          "text": [
            " * sqlite:///weather.db\n",
            "Done.\n"
          ]
        },
        {
          "output_type": "execute_result",
          "data": {
            "text/plain": [
              "[]"
            ]
          },
          "metadata": {},
          "execution_count": 22
        }
      ]
    },
    {
      "cell_type": "code",
      "source": [
        "%%sql\n",
        "insert into  Application values\n",
        "(1,1001,1000),\n",
        "(2,1004,3000),\n",
        "(3,1005,1500);\n",
        "\n"
      ],
      "metadata": {
        "colab": {
          "base_uri": "https://localhost:8080/"
        },
        "id": "qwMUYxtTs7cb",
        "outputId": "4d03a9eb-555a-4b39-b162-b83a46f5b933"
      },
      "execution_count": 23,
      "outputs": [
        {
          "output_type": "stream",
          "name": "stdout",
          "text": [
            " * sqlite:///weather.db\n",
            "3 rows affected.\n"
          ]
        },
        {
          "output_type": "execute_result",
          "data": {
            "text/plain": [
              "[]"
            ]
          },
          "metadata": {},
          "execution_count": 23
        }
      ]
    },
    {
      "cell_type": "code",
      "source": [
        "%%sql\n",
        "select e.cid,e.bill,0.05*a.income as fivepercentincome\n",
        "from Electricity e,Application a\n",
        "where e.cid=a.cid;"
      ],
      "metadata": {
        "colab": {
          "base_uri": "https://localhost:8080/",
          "height": 139
        },
        "id": "C7LpBU9ZtTD6",
        "outputId": "6d081f39-b1b3-4e9f-ced8-bccfeb264afe"
      },
      "execution_count": 25,
      "outputs": [
        {
          "output_type": "stream",
          "name": "stdout",
          "text": [
            " * sqlite:///weather.db\n",
            "Done.\n"
          ]
        },
        {
          "output_type": "execute_result",
          "data": {
            "text/plain": [
              "[(1001, 54.4, 50.0), (1004, 91.2, 150.0), (1005, 80.6, 75.0)]"
            ],
            "text/html": [
              "<table>\n",
              "    <tr>\n",
              "        <th>cid</th>\n",
              "        <th>bill</th>\n",
              "        <th>fivepercentincome</th>\n",
              "    </tr>\n",
              "    <tr>\n",
              "        <td>1001</td>\n",
              "        <td>54.4</td>\n",
              "        <td>50.0</td>\n",
              "    </tr>\n",
              "    <tr>\n",
              "        <td>1004</td>\n",
              "        <td>91.2</td>\n",
              "        <td>150.0</td>\n",
              "    </tr>\n",
              "    <tr>\n",
              "        <td>1005</td>\n",
              "        <td>80.6</td>\n",
              "        <td>75.0</td>\n",
              "    </tr>\n",
              "</table>"
            ]
          },
          "metadata": {},
          "execution_count": 25
        }
      ]
    },
    {
      "cell_type": "code",
      "source": [
        "%%sql\n",
        "alter table Application  add approvalORnot INT;\n"
      ],
      "metadata": {
        "colab": {
          "base_uri": "https://localhost:8080/"
        },
        "id": "zt6KBQAWt3JE",
        "outputId": "735f2a2e-b6f7-4cd5-cff4-c3a88d87f2a9"
      },
      "execution_count": 27,
      "outputs": [
        {
          "output_type": "stream",
          "name": "stdout",
          "text": [
            " * sqlite:///weather.db\n",
            "Done.\n"
          ]
        },
        {
          "output_type": "execute_result",
          "data": {
            "text/plain": [
              "[]"
            ]
          },
          "metadata": {},
          "execution_count": 27
        }
      ]
    },
    {
      "cell_type": "code",
      "source": [
        "%%sql\n",
        "Update Application as A\n",
        "set approvalORnot = (\n",
        "  SELECT IIF(E.bill>0.05*A.income,1,0)\n",
        "  from Electricity as E\n",
        "  where E.cid=A.cid\n",
        ")\n"
      ],
      "metadata": {
        "colab": {
          "base_uri": "https://localhost:8080/"
        },
        "id": "32VpUEpQuRRT",
        "outputId": "f0cfd59d-1b5a-406b-938e-164de42aceaa"
      },
      "execution_count": 28,
      "outputs": [
        {
          "output_type": "stream",
          "name": "stdout",
          "text": [
            " * sqlite:///weather.db\n",
            "3 rows affected.\n"
          ]
        },
        {
          "output_type": "execute_result",
          "data": {
            "text/plain": [
              "[]"
            ]
          },
          "metadata": {},
          "execution_count": 28
        }
      ]
    }
  ]
}